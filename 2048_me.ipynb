{
  "nbformat": 4,
  "nbformat_minor": 0,
  "metadata": {
    "colab": {
      "name": "2048_me.ipynb",
      "provenance": [],
      "collapsed_sections": [],
      "authorship_tag": "ABX9TyP2vhtSXLBCCJ1mrKw2zgsK",
      "include_colab_link": true
    },
    "kernelspec": {
      "name": "python3",
      "display_name": "Python 3"
    },
    "language_info": {
      "name": "python"
    }
  },
  "cells": [
    {
      "cell_type": "markdown",
      "metadata": {
        "id": "view-in-github",
        "colab_type": "text"
      },
      "source": [
        "<a href=\"https://colab.research.google.com/github/mraihanprstya/2048_byme/blob/main/2048_me.ipynb\" target=\"_parent\"><img src=\"https://colab.research.google.com/assets/colab-badge.svg\" alt=\"Open In Colab\"/></a>"
      ]
    },
    {
      "cell_type": "code",
      "metadata": {
        "id": "xkiFRNGTbC73"
      },
      "source": [
        "import numpy as np\n",
        "import random"
      ],
      "execution_count": 1,
      "outputs": []
    },
    {
      "cell_type": "code",
      "metadata": {
        "id": "TCrj3bZQbIkp"
      },
      "source": [
        "class g2048:\n",
        "  def __init__(self):\n",
        "    self.matriks = np.zeros((4,4))\n",
        "    self.genran()\n",
        "    self.genran()\n",
        "    self.riw = np.zeros((4,4))\n",
        "    self.score = 0\n",
        "  \n",
        "  def genran(self):\n",
        "    cek_0 = np.argwhere(self.matriks == 0)\n",
        "    pick_1 = random.choice(cek_0)\n",
        "    angka_muncul = np.random.choice([2,4],p=(0.8,0.2))\n",
        "    self.matriks[pick_1[0],pick_1[1]] = angka_muncul\n",
        "    # print(self.matriks)\n",
        "    # return pick_1\n",
        "\n",
        "  def warp_down(self):\n",
        "    for j in range(4):\n",
        "      pos = 3\n",
        "      for i in range(3):\n",
        "        if self.matriks[3-i,3-j] == 0 and self.matriks[2-i,3-j] !=0:\n",
        "          self.matriks[pos,3-j] = self.matriks[2-i,3-j]\n",
        "          self.matriks[2-i,3-j] = 0\n",
        "        elif self.matriks[3-i,3-j] == 0 and self.matriks[2-i,3-j] ==0:\n",
        "          pos += 1\n",
        "        pos -= 1\n",
        "    # print(self.matriks)\n",
        "\n",
        "  def cekger(self):\n",
        "    temp = (self.matriks != self.riw)\n",
        "    if True in temp:\n",
        "      self.genran()\n",
        "\n",
        "  def tambah(self):\n",
        "    for j in range(4):\n",
        "      for i in range(3):\n",
        "        if self.matriks[3-i,3-j] == self.matriks[2-i,3-j]:\n",
        "          self.matriks[3-i,3-j] = self.matriks[3-i,3-j]*2\n",
        "          self.score += self.matriks[3-i,3-j]\n",
        "          self.matriks[2-i,3-j] = 0\n",
        "    # print(self.matriks)\n",
        "    \n",
        "  def turun(self):\n",
        "    self.riw = self.matriks*1\n",
        "    self.warp_down()\n",
        "    self.tambah()\n",
        "    self.warp_down()\n",
        "    self.cekger()\n",
        "    print(self.matriks)\n",
        "    print(self.score)\n",
        "  \n",
        "  def naik(self):\n",
        "    self.riw = self.matriks*1\n",
        "    self.matriks = np.flip(self.matriks,0)\n",
        "    self.warp_down()\n",
        "    self.tambah()\n",
        "    self.warp_down()\n",
        "    self.matriks = np.flip(self.matriks,0)\n",
        "    self.cekger()\n",
        "    print(self.matriks)\n",
        "    print(self.score)\n",
        "\n",
        "  def kanan(self):\n",
        "    self.riw = self.matriks*1\n",
        "    self.matriks = np.transpose(self.matriks)\n",
        "    self.warp_down()\n",
        "    self.tambah()\n",
        "    self.warp_down()\n",
        "    self.matriks = np.transpose(self.matriks)\n",
        "    self.cekger()\n",
        "    print(self.matriks)\n",
        "    print(self.score)\n",
        "\n",
        "  def kiri(self):\n",
        "    self.riw = self.matriks*1\n",
        "    self.matriks = np.flip(self.matriks,1)\n",
        "    self.matriks = np.transpose(self.matriks)\n",
        "    self.warp_down()\n",
        "    self.tambah()\n",
        "    self.warp_down()\n",
        "    self.matriks = np.transpose(self.matriks)\n",
        "    self.matriks = np.flip(self.matriks,1)\n",
        "    self.cekger()\n",
        "    print(self.matriks)\n",
        "    print(self.score)\n",
        "  \n",
        "  def reset(self):\n",
        "    self.__init__()\n",
        "    print(self.matriks)\n",
        "    \n",
        "  def undo(self):\n",
        "    for i in range(4):\n",
        "      for j in range(4):\n",
        "        self.matriks[i,j] = self.riw[i,j]\n",
        "    print(self.matriks)"
      ],
      "execution_count": 2,
      "outputs": []
    },
    {
      "cell_type": "code",
      "metadata": {
        "colab": {
          "base_uri": "https://localhost:8080/"
        },
        "id": "zezJGUnBxLb4",
        "outputId": "80d510a1-e3d0-4ed6-faa6-c99031e47cb1"
      },
      "source": [
        "test = g2048()\n",
        "print(test.matriks)"
      ],
      "execution_count": 3,
      "outputs": [
        {
          "output_type": "stream",
          "text": [
            "[[0. 0. 0. 0.]\n",
            " [0. 0. 0. 0.]\n",
            " [2. 0. 2. 0.]\n",
            " [0. 0. 0. 0.]]\n"
          ],
          "name": "stdout"
        }
      ]
    },
    {
      "cell_type": "code",
      "metadata": {
        "colab": {
          "base_uri": "https://localhost:8080/"
        },
        "id": "Yqc-nvAOxQTQ",
        "outputId": "c52629e8-904c-40c4-e845-a8f23e09643d"
      },
      "source": [
        "test.turun()"
      ],
      "execution_count": 36,
      "outputs": [
        {
          "output_type": "stream",
          "text": [
            "[[ 0.  0.  0.  0.]\n",
            " [ 4.  4.  0.  0.]\n",
            " [ 8.  2.  0.  0.]\n",
            " [32.  4.  4.  2.]]\n",
            "136.0\n"
          ],
          "name": "stdout"
        }
      ]
    }
  ]
}